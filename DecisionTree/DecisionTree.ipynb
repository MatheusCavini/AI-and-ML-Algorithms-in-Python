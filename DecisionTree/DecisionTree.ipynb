{
 "cells": [
  {
   "cell_type": "markdown",
   "id": "94c3d170-673e-4dd2-b7be-29f02157a973",
   "metadata": {},
   "source": [
    "# Implementação do Zero"
   ]
  },
  {
   "cell_type": "code",
   "execution_count": 3,
   "id": "60d66109",
   "metadata": {},
   "outputs": [],
   "source": [
    "import numpy as np\n",
    "from collections import Counter"
   ]
  },
  {
   "cell_type": "code",
   "execution_count": 4,
   "id": "948ad993",
   "metadata": {},
   "outputs": [],
   "source": [
    "class Node:\n",
    "    def __init__(self, feature=None, threshold=None, left=None, right=None, *, value=None):\n",
    "        self.feature =  feature\n",
    "        self.threshold = threshold\n",
    "        self.left = left\n",
    "        self.right = right\n",
    "        self.value = value\n",
    "\n",
    "    def is_leaf_node(self):\n",
    "        return self.value is not None\n"
   ]
  },
  {
   "cell_type": "code",
   "execution_count": 19,
   "id": "4596e51f",
   "metadata": {},
   "outputs": [],
   "source": [
    "class DecisionTree:\n",
    "    def __init__(self, min_samples_split=2, max_depth=100, n_features=None):\n",
    "        self.min_samples_split = min_samples_split\n",
    "        self.max_depth = max_depth\n",
    "        self.n_features = n_features\n",
    "        self.root = None\n",
    "\n",
    "\n",
    "\n",
    "\n",
    "\n",
    "    def fit(self, X, y):\n",
    "        self.n_features = X.shape[1] if not self.n_features else min(self.n_features, X.shape[1])\n",
    "        self.root = self._grow_tree(X, y)\n",
    "\n",
    "    \n",
    "    def _grow_tree(self, X, y, depth=0):\n",
    "        n_samples, n_features =  X.shape\n",
    "        n_labels = len(np.unique(y))\n",
    "\n",
    "        #check stopping criteria. If achieved, return a leaf node\n",
    "        if (depth >= self.max_depth or n_labels == 1 or n_samples < self.min_samples_split):\n",
    "            leaf_value = self._most_common_label(y)\n",
    "            return Node(value = leaf_value)\n",
    "\n",
    "        feat_idx = np.random.choice(n_features, self.n_features, replace=False)\n",
    "\n",
    "        #find best split\n",
    "        best_feature, best_thresh = self._best_split(X, y, feat_idx)\n",
    "\n",
    "        #create child nodes\n",
    "        left_idx, right_idx = self._split(X[:, best_feature], best_thresh)\n",
    "        left = self._grow_tree(X[left_idx, :], y[left_idx], depth+1)\n",
    "        right = self._grow_tree(X[right_idx, :], y[right_idx], depth+1)\n",
    "        return Node(best_feature, best_thresh, left, right)\n",
    "\n",
    "\n",
    "    def _best_split(self, X, y, feat_idx):\n",
    "        best_gain = -1\n",
    "        split_idx, split_thresh = None, None\n",
    "\n",
    "        for feat in feat_idx:\n",
    "            x_column = X[:, feat]\n",
    "            thresholds = np.unique(x_column) #get unique values in the column\n",
    "\n",
    "            for thresh in thresholds:\n",
    "                #Calculate the informartion gain\n",
    "                gain = self._information_gain(y, x_column, thresh)\n",
    "                \n",
    "                if gain > best_gain:\n",
    "                    best_gain = gain\n",
    "                    split_idx = feat\n",
    "                    split_thresh = thresh\n",
    "\n",
    "        return split_idx, split_thresh\n",
    "\n",
    "\n",
    "    def _information_gain(self, y, x_column, thresh):\n",
    "        #parent entropy\n",
    "        parent_entropy =  self._entropy(y)\n",
    "\n",
    "        #create the children\n",
    "        left_idx, right_idx = self._split(x_column, thresh)\n",
    "\n",
    "        if len(left_idx) == 0 or len(right_idx) == 0:\n",
    "            return 0\n",
    "\n",
    "        #entropy of the children\n",
    "        n =  len(y)\n",
    "        n_left, n_right = len(left_idx), len(right_idx)\n",
    "        e_left =  self._entropy(y[left_idx])\n",
    "        e_right = self._entropy(y[right_idx])\n",
    "\n",
    "        #calculate the information gain\n",
    "        IG = parent_entropy - (n_left/n) * e_left - (n_right/n) * e_right\n",
    "        return IG\n",
    "\n",
    "\n",
    "    def _split(self, x_column, thresh):\n",
    "        left_idx = np.argwhere(x_column <= thresh).flatten()\n",
    "        right_idx = np.argwhere(x_column > thresh).flatten()\n",
    "        return left_idx, right_idx\n",
    "\n",
    "\n",
    "    def _entropy(self, y):\n",
    "        hist = np.bincount(y)\n",
    "        p_X = hist / len(y)\n",
    "        entropy = -np.sum([p * np.log2(p) for p in p_X if p > 0])\n",
    "        return entropy\n",
    "\n",
    "\n",
    "    def _most_common_label(self, y):\n",
    "        counter = Counter(y)\n",
    "        return counter.most_common(1)[0][0]\n",
    "        \n",
    "\n",
    "\n",
    "\n",
    "\n",
    "\n",
    "    def predict(self, X):\n",
    "        return np.array([self._traverse_tree(x, self.root) for x in X])\n",
    "\n",
    "    def _traverse_tree(self, x, node):\n",
    "        if node.is_leaf_node():\n",
    "            return node.value\n",
    "\n",
    "        if x[node.feature] <= node.threshold:\n",
    "            return self._traverse_tree(x, node.left)\n",
    "            \n",
    "        return self._traverse_tree(x, node.right)\n",
    "\n",
    "\n",
    "    def draw(self):\n",
    "        self._draw_tree(self.root)\n"
   ]
  },
  {
   "cell_type": "markdown",
   "id": "eac7b0c7",
   "metadata": {},
   "source": [
    "# Teste"
   ]
  },
  {
   "cell_type": "code",
   "execution_count": 20,
   "id": "ebb61bb5",
   "metadata": {},
   "outputs": [
    {
     "name": "stdout",
     "output_type": "stream",
     "text": [
      "0.9210526315789473\n",
      "7 <= 0.05102\n",
      "20 <= 16.77\n",
      "13 <= 34.37\n",
      "21 <= 33.17\n",
      "1\n",
      "21 <= 33.37\n",
      "0\n",
      "1\n",
      "18 <= 0.02418\n",
      "22 <= 108.4\n",
      "0\n",
      "1\n",
      "1\n",
      "1 <= 19.46\n",
      "5 <= 0.08549\n",
      "1\n",
      "0\n",
      "0\n",
      "23 <= 861.5\n",
      "21 <= 25.47\n",
      "7 <= 0.07857\n",
      "7 <= 0.05246\n",
      "0\n",
      "1\n",
      "0\n",
      "28 <= 0.2666\n",
      "1\n",
      "0\n",
      "0\n"
     ]
    }
   ],
   "source": [
    "from sklearn import datasets\n",
    "from sklearn.model_selection import train_test_split\n",
    "\n",
    "data = datasets.load_breast_cancer()\n",
    "X, y = data.data, data.target\n",
    "\n",
    "X_train, X_test, y_train, y_test = train_test_split(X, y, test_size=0.2, random_state=1234)\n",
    "\n",
    "\n",
    "clf = DecisionTree(max_depth=10)\n",
    "clf.fit(X_train, y_train)\n",
    "\n",
    "predictions = clf.predict(X_test)\n",
    "\n",
    "acc = np.sum(predictions == y_test)/len(y_test)\n",
    "print(acc)\n"
   ]
  },
  {
   "cell_type": "markdown",
   "id": "29891655",
   "metadata": {},
   "source": [
    "# Modelo Nativo do SKLearn"
   ]
  },
  {
   "cell_type": "code",
   "execution_count": 7,
   "id": "1a1db8ee",
   "metadata": {},
   "outputs": [
    {
     "name": "stdout",
     "output_type": "stream",
     "text": [
      "0.9122807017543859\n"
     ]
    }
   ],
   "source": [
    "from sklearn.tree import DecisionTreeClassifier\n",
    "\n",
    "sk_clf = DecisionTreeClassifier()\n",
    "sk_clf.fit(X_train, y_train)\n",
    "sk_predictions = sk_clf.predict(X_test)\n",
    "\n",
    "sk_acc = np.sum(sk_predictions == y_test)/len(y_test)\n",
    "print(sk_acc)\n"
   ]
  },
  {
   "cell_type": "markdown",
   "id": "4cefa2ba",
   "metadata": {},
   "source": [
    "# Expansão para Random Forest"
   ]
  },
  {
   "cell_type": "code",
   "execution_count": 17,
   "id": "cbcf2274",
   "metadata": {},
   "outputs": [],
   "source": [
    "class RandomForest:\n",
    "    def __init__(self, n_trees=10, min_samples_split=2, max_depth=100, n_features=None):\n",
    "        self.n_trees = n_trees\n",
    "        self.min_samples_split = min_samples_split\n",
    "        self.max_depth = max_depth\n",
    "        self.n_features = n_features\n",
    "        self.trees = []\n",
    "\n",
    "    def fit(self, X, y):\n",
    "        self.trees = []\n",
    "        for _ in range(self.n_trees):\n",
    "            tree = DecisionTree(min_samples_split=self.min_samples_split, max_depth=self.max_depth, n_features=self.n_features)\n",
    "            X_random, y_random = self._bootstrap_sample(X, y)\n",
    "            tree.fit(X_random, y_random)\n",
    "            self.trees.append(tree)\n",
    "\n",
    "    def  _bootstrap_sample(self, X, y):\n",
    "        n_samples = X.shape[0]\n",
    "        idxs = np.random.choice(n_samples, n_samples, replace=True)\n",
    "        return X[idxs], y[idxs]\n",
    "\n",
    "\n",
    "    def _most_common_label(self, y):\n",
    "        counter = Counter(y)\n",
    "        return counter.most_common(1)[0][0]\n",
    "\n",
    "    def predict(self, X):\n",
    "        predictions = np.array([tree.predict(X) for tree in self.trees])\n",
    "        tree_preds = np.swapaxes(predictions, 0, 1)\n",
    "        y_pred = [self._most_common_label(pred) for pred in tree_preds]\n",
    "        return np.array(y_pred)"
   ]
  },
  {
   "cell_type": "code",
   "execution_count": 18,
   "id": "24fd4da0",
   "metadata": {},
   "outputs": [
    {
     "name": "stdout",
     "output_type": "stream",
     "text": [
      "0.9122807017543859\n"
     ]
    }
   ],
   "source": [
    "RFclf = RandomForest(n_trees=5)\n",
    "RFclf.fit(X_train, y_train)\n",
    "\n",
    "RFpredictions = RFclf.predict(X_test)\n",
    "\n",
    "RFacc = np.sum(RFpredictions == y_test)/len(y_test)\n",
    "print(acc)"
   ]
  },
  {
   "cell_type": "code",
   "execution_count": null,
   "id": "47332075",
   "metadata": {},
   "outputs": [],
   "source": []
  }
 ],
 "metadata": {
  "kernelspec": {
   "display_name": "base",
   "language": "python",
   "name": "python3"
  },
  "language_info": {
   "codemirror_mode": {
    "name": "ipython",
    "version": 3
   },
   "file_extension": ".py",
   "mimetype": "text/x-python",
   "name": "python",
   "nbconvert_exporter": "python",
   "pygments_lexer": "ipython3",
   "version": "3.12.7"
  }
 },
 "nbformat": 4,
 "nbformat_minor": 5
}
