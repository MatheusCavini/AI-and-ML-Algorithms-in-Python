{
 "cells": [
  {
   "cell_type": "markdown",
   "id": "cb55f165",
   "metadata": {},
   "source": [
    "# Implementação do Zero"
   ]
  },
  {
   "cell_type": "code",
   "execution_count": 1,
   "id": "c57aa6ea-9d7e-448e-8ef4-ec9b94077f8b",
   "metadata": {},
   "outputs": [],
   "source": [
    "import numpy as np"
   ]
  },
  {
   "cell_type": "code",
   "execution_count": 3,
   "id": "2cec50f8",
   "metadata": {},
   "outputs": [],
   "source": [
    "class NaiveBayes:\n",
    "\n",
    "    def fit(self, X, y):\n",
    "        n_samples, n_features = X.shape\n",
    "        self._classes = np.unique(y)\n",
    "        n_classes = len(self._classes)\n",
    "\n",
    "        #Calculate mean, var and prior for each class\n",
    "        self._mean = np.zeros((n_classes, n_features), dtype=np.float64) #mean of each feature for each class\n",
    "        self._var = np.zeros((n_classes, n_features), dtype=np.float64) #var of each feature for each class\n",
    "        self._priors = np.zeros(n_classes, dtype=np.float64)\n",
    "\n",
    "        for idx, c in enumerate(self._classes):\n",
    "            X_c = X[y==c] #filter the samples that belong to class c\n",
    "            self._mean[idx, :] = X_c.mean(axis=0) #mean of each feature for class c\n",
    "            self._var[idx, :] = X_c.var(axis=0) #var of each feature for class c\n",
    "            self._priors[idx] = X_c.shape[0] / float(n_samples) #frequency of class c divided by total number of samples\n",
    "\n",
    "    def predict(self, X):\n",
    "        y_pred = [self._predict(x) for x in X]\n",
    "        return y_pred\n",
    "\n",
    "    def _predict(self, x):\n",
    "        posteriors = []\n",
    "\n",
    "        for idx, _ in enumerate(self._classes):\n",
    "            log_prior = np.log(self._priors[idx])\n",
    "            log_conditionals = np.sum(np.log(self._pdf(idx, x)))\n",
    "            posterior = log_prior + log_conditionals\n",
    "            posteriors.append(posterior)\n",
    "\n",
    "        return self._classes[np.argmax(posteriors)]\n",
    "\n",
    "    def _pdf(self, idx, x):\n",
    "        mean = self._mean[idx]\n",
    "        var = self._var[idx]\n",
    "        numerator = np.exp(- (x-mean)**2 / (2 * var))\n",
    "        denominator = np.sqrt(2 * np.pi * var)\n",
    "        return numerator / denominator"
   ]
  },
  {
   "cell_type": "markdown",
   "id": "cc4a298f",
   "metadata": {},
   "source": [
    "# Teste"
   ]
  },
  {
   "cell_type": "code",
   "execution_count": 5,
   "id": "f36bda22",
   "metadata": {},
   "outputs": [
    {
     "name": "stdout",
     "output_type": "stream",
     "text": [
      "Naive Bayes classification accuracy 0.965\n"
     ]
    }
   ],
   "source": [
    "from sklearn.model_selection import train_test_split\n",
    "from sklearn import datasets\n",
    "\n",
    "def accuracy(y_true, y_pred):\n",
    "    accuracy = np.sum(y_true == y_pred) / len(y_true)\n",
    "    return accuracy\n",
    "\n",
    "X, y = datasets.make_classification(n_samples=1000, n_features=10, n_classes=2, random_state=123)\n",
    "\n",
    "X_train, X_test, y_train, y_test = train_test_split(X, y, test_size=0.2, random_state=123)\n",
    "\n",
    "NBclf = NaiveBayes()\n",
    "\n",
    "NBclf.fit(X_train, y_train)\n",
    "\n",
    "predictions = NBclf.predict(X_test)\n",
    "\n",
    "print(\"Naive Bayes classification accuracy\", accuracy(y_test, predictions))"
   ]
  },
  {
   "cell_type": "markdown",
   "id": "613b8c63",
   "metadata": {},
   "source": [
    "# Modelo Nativo do SKLearn"
   ]
  },
  {
   "cell_type": "code",
   "execution_count": 6,
   "id": "406dcc61",
   "metadata": {},
   "outputs": [
    {
     "name": "stdout",
     "output_type": "stream",
     "text": [
      "Sklearn Naive Bayes classification accuracy 0.965\n"
     ]
    }
   ],
   "source": [
    "from sklearn.naive_bayes import GaussianNB\n",
    "\n",
    "clf = GaussianNB()\n",
    "clf.fit(X_train, y_train)\n",
    "predictions = clf.predict(X_test)\n",
    "\n",
    "print(\"Sklearn Naive Bayes classification accuracy\", accuracy(y_test, predictions))"
   ]
  }
 ],
 "metadata": {
  "kernelspec": {
   "display_name": "base",
   "language": "python",
   "name": "python3"
  },
  "language_info": {
   "codemirror_mode": {
    "name": "ipython",
    "version": 3
   },
   "file_extension": ".py",
   "mimetype": "text/x-python",
   "name": "python",
   "nbconvert_exporter": "python",
   "pygments_lexer": "ipython3",
   "version": "3.12.7"
  }
 },
 "nbformat": 4,
 "nbformat_minor": 5
}
