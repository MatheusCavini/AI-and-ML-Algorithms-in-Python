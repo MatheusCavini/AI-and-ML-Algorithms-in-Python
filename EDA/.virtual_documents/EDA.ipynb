





import pandas as pd
import numpy as np
import matplotlib.pylab as plt
import seaborn as sns
plt.style.use('ggplot')





df = pd.read_csv('./coaster_db.csv')





df.shape #Dimensões do dataframe (linhas, colunas)


df.head(5) #Mostra as n primeiras linhas


df.dtypes


df.describe() #Mostra as principais medidas estatísticas para as colunas numéricas do dataframe








#O comando .copy() no final garante que um novo dataframe seja gerado, e não apenas uma referência para o original
df = df[['coaster_name','Location', 'Status','Manufacturer', 'year_introduced', 'latitude', 'longitude', 
    'Type_Main', 'opening_date_clean','speed_mph', 'height_ft','Inversions_clean', 'Gforce_clean']].copy() 


df.head(2)





df['opening_date_clean'] = pd.to_datetime(df['opening_date_clean'])





df = df.rename(columns={'coaster_name':'Coaster_Name',
                   'year_introduced':'Year_Introduced',
                   'opening_date_clean':'Opening_Date',
                   'speed_mph':'Speed_mph',
                   'height_ft':'Height_ft',
                   'Inversions_clean':'Inversions',
                   'Gforce_clean':'Gforce'})





df = df.loc[~df.duplicated(subset=['Coaster_Name','Location','Opening_Date'])].reset_index(drop=True).copy()
df.shape








df['Year_Introduced'].value_counts() #Conta quantos valores únicas para um atributo há no DF





ax = df['Year_Introduced'].value_counts().head(10).plot(kind='bar', title="Anos com maiores lançamentos de montanhas russas")
ax.set_xlabel("Ano de lançamento")
ax.set_ylabel("Nº de montanhas russas")


ax1 = df['Speed_mph'].plot(kind='hist', bins=20)
ax1.set_title("Distribuição de velocidades")
ax1.set_xlabel("Velocidade (mph)")
ax1.set_ylabel("Nº de montanhas russas")








ax2 = df.plot(kind='scatter', x='Speed_mph', y='Height_ft')
ax2.set_title("Relação entre altura e velocidade")
ax2.set_xlabel("Velocidade (mph)")
ax2.set_ylabel("Altura (ft)")





sns.scatterplot(x='Speed_mph', y='Height_ft', data=df, hue="Year_Introduced")





sns.pairplot(df, vars=["Year_Introduced", "Speed_mph", "Height_ft", "Inversions", "Gforce"], hue="Type_Main")





df_corr = df[["Year_Introduced", "Speed_mph", "Height_ft", "Inversions", "Gforce"]].dropna().corr()


sns.heatmap(df_corr, annot=True)








ax3 = df.query("Location != 'Other'") \
    .groupby('Location')['Speed_mph'] \
    .agg(['mean', 'count']) \
    .query('count >= 10') \
    .sort_values('mean')['mean'] \
    .plot(kind='barh')

ax3.set_title("Média das velocidades de montanhas russas por local")
ax3.set_xlabel("Velocidade (mph)")
ax3.set_ylabel("Local")


df.query("Location != 'Other'") \
    .groupby('Location')['Speed_mph'].agg(['mean'])



